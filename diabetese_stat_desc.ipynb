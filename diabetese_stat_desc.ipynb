{
 "cells": [
  {
   "cell_type": "code",
   "execution_count": 1,
   "id": "e107ca3f",
   "metadata": {},
   "outputs": [],
   "source": [
    "import numpy as np\n",
    "import pandas as pd\n"
   ]
  },
  {
   "cell_type": "code",
   "execution_count": 3,
   "id": "e9092733",
   "metadata": {},
   "outputs": [],
   "source": [
    "db=pd.read_csv('Dataset/diabetes.csv')"
   ]
  },
  {
   "cell_type": "code",
   "execution_count": 23,
   "id": "e20bc6c7",
   "metadata": {},
   "outputs": [
    {
     "name": "stdout",
     "output_type": "stream",
     "text": [
      "<class 'pandas.core.frame.DataFrame'>\n",
      "RangeIndex: 15000 entries, 0 to 14999\n",
      "Data columns (total 10 columns):\n",
      " #   Column                  Non-Null Count  Dtype  \n",
      "---  ------                  --------------  -----  \n",
      " 0   PatientID               15000 non-null  int64  \n",
      " 1   Pregnancies             15000 non-null  int64  \n",
      " 2   PlasmaGlucose           15000 non-null  int64  \n",
      " 3   DiastolicBloodPressure  15000 non-null  int64  \n",
      " 4   TricepsThickness        15000 non-null  int64  \n",
      " 5   SerumInsulin            15000 non-null  int64  \n",
      " 6   BMI                     15000 non-null  float64\n",
      " 7   DiabetesPedigree        15000 non-null  float64\n",
      " 8   Age                     15000 non-null  int64  \n",
      " 9   Diabetic                15000 non-null  int64  \n",
      "dtypes: float64(2), int64(8)\n",
      "memory usage: 1.1 MB\n"
     ]
    }
   ],
   "source": [
    "db.head()\n",
    "db.info()"
   ]
  },
  {
   "cell_type": "code",
   "execution_count": 5,
   "id": "03722029",
   "metadata": {},
   "outputs": [
    {
     "data": {
      "text/html": [
       "<div>\n",
       "<style scoped>\n",
       "    .dataframe tbody tr th:only-of-type {\n",
       "        vertical-align: middle;\n",
       "    }\n",
       "\n",
       "    .dataframe tbody tr th {\n",
       "        vertical-align: top;\n",
       "    }\n",
       "\n",
       "    .dataframe thead th {\n",
       "        text-align: right;\n",
       "    }\n",
       "</style>\n",
       "<table border=\"1\" class=\"dataframe\">\n",
       "  <thead>\n",
       "    <tr style=\"text-align: right;\">\n",
       "      <th></th>\n",
       "      <th>PatientID</th>\n",
       "      <th>Pregnancies</th>\n",
       "      <th>PlasmaGlucose</th>\n",
       "      <th>DiastolicBloodPressure</th>\n",
       "      <th>TricepsThickness</th>\n",
       "      <th>SerumInsulin</th>\n",
       "      <th>BMI</th>\n",
       "      <th>DiabetesPedigree</th>\n",
       "      <th>Age</th>\n",
       "      <th>Diabetic</th>\n",
       "    </tr>\n",
       "  </thead>\n",
       "  <tbody>\n",
       "    <tr>\n",
       "      <th>0</th>\n",
       "      <td>False</td>\n",
       "      <td>False</td>\n",
       "      <td>False</td>\n",
       "      <td>False</td>\n",
       "      <td>False</td>\n",
       "      <td>False</td>\n",
       "      <td>False</td>\n",
       "      <td>False</td>\n",
       "      <td>False</td>\n",
       "      <td>False</td>\n",
       "    </tr>\n",
       "    <tr>\n",
       "      <th>1</th>\n",
       "      <td>False</td>\n",
       "      <td>False</td>\n",
       "      <td>False</td>\n",
       "      <td>False</td>\n",
       "      <td>False</td>\n",
       "      <td>False</td>\n",
       "      <td>False</td>\n",
       "      <td>False</td>\n",
       "      <td>False</td>\n",
       "      <td>False</td>\n",
       "    </tr>\n",
       "    <tr>\n",
       "      <th>2</th>\n",
       "      <td>False</td>\n",
       "      <td>False</td>\n",
       "      <td>False</td>\n",
       "      <td>False</td>\n",
       "      <td>False</td>\n",
       "      <td>False</td>\n",
       "      <td>False</td>\n",
       "      <td>False</td>\n",
       "      <td>False</td>\n",
       "      <td>False</td>\n",
       "    </tr>\n",
       "    <tr>\n",
       "      <th>3</th>\n",
       "      <td>False</td>\n",
       "      <td>False</td>\n",
       "      <td>False</td>\n",
       "      <td>False</td>\n",
       "      <td>False</td>\n",
       "      <td>False</td>\n",
       "      <td>False</td>\n",
       "      <td>False</td>\n",
       "      <td>False</td>\n",
       "      <td>False</td>\n",
       "    </tr>\n",
       "    <tr>\n",
       "      <th>4</th>\n",
       "      <td>False</td>\n",
       "      <td>False</td>\n",
       "      <td>False</td>\n",
       "      <td>False</td>\n",
       "      <td>False</td>\n",
       "      <td>False</td>\n",
       "      <td>False</td>\n",
       "      <td>False</td>\n",
       "      <td>False</td>\n",
       "      <td>False</td>\n",
       "    </tr>\n",
       "    <tr>\n",
       "      <th>...</th>\n",
       "      <td>...</td>\n",
       "      <td>...</td>\n",
       "      <td>...</td>\n",
       "      <td>...</td>\n",
       "      <td>...</td>\n",
       "      <td>...</td>\n",
       "      <td>...</td>\n",
       "      <td>...</td>\n",
       "      <td>...</td>\n",
       "      <td>...</td>\n",
       "    </tr>\n",
       "    <tr>\n",
       "      <th>14995</th>\n",
       "      <td>False</td>\n",
       "      <td>False</td>\n",
       "      <td>False</td>\n",
       "      <td>False</td>\n",
       "      <td>False</td>\n",
       "      <td>False</td>\n",
       "      <td>False</td>\n",
       "      <td>False</td>\n",
       "      <td>False</td>\n",
       "      <td>False</td>\n",
       "    </tr>\n",
       "    <tr>\n",
       "      <th>14996</th>\n",
       "      <td>False</td>\n",
       "      <td>False</td>\n",
       "      <td>False</td>\n",
       "      <td>False</td>\n",
       "      <td>False</td>\n",
       "      <td>False</td>\n",
       "      <td>False</td>\n",
       "      <td>False</td>\n",
       "      <td>False</td>\n",
       "      <td>False</td>\n",
       "    </tr>\n",
       "    <tr>\n",
       "      <th>14997</th>\n",
       "      <td>False</td>\n",
       "      <td>False</td>\n",
       "      <td>False</td>\n",
       "      <td>False</td>\n",
       "      <td>False</td>\n",
       "      <td>False</td>\n",
       "      <td>False</td>\n",
       "      <td>False</td>\n",
       "      <td>False</td>\n",
       "      <td>False</td>\n",
       "    </tr>\n",
       "    <tr>\n",
       "      <th>14998</th>\n",
       "      <td>False</td>\n",
       "      <td>False</td>\n",
       "      <td>False</td>\n",
       "      <td>False</td>\n",
       "      <td>False</td>\n",
       "      <td>False</td>\n",
       "      <td>False</td>\n",
       "      <td>False</td>\n",
       "      <td>False</td>\n",
       "      <td>False</td>\n",
       "    </tr>\n",
       "    <tr>\n",
       "      <th>14999</th>\n",
       "      <td>False</td>\n",
       "      <td>False</td>\n",
       "      <td>False</td>\n",
       "      <td>False</td>\n",
       "      <td>False</td>\n",
       "      <td>False</td>\n",
       "      <td>False</td>\n",
       "      <td>False</td>\n",
       "      <td>False</td>\n",
       "      <td>False</td>\n",
       "    </tr>\n",
       "  </tbody>\n",
       "</table>\n",
       "<p>15000 rows × 10 columns</p>\n",
       "</div>"
      ],
      "text/plain": [
       "       PatientID  Pregnancies  PlasmaGlucose  DiastolicBloodPressure  \\\n",
       "0          False        False          False                   False   \n",
       "1          False        False          False                   False   \n",
       "2          False        False          False                   False   \n",
       "3          False        False          False                   False   \n",
       "4          False        False          False                   False   \n",
       "...          ...          ...            ...                     ...   \n",
       "14995      False        False          False                   False   \n",
       "14996      False        False          False                   False   \n",
       "14997      False        False          False                   False   \n",
       "14998      False        False          False                   False   \n",
       "14999      False        False          False                   False   \n",
       "\n",
       "       TricepsThickness  SerumInsulin    BMI  DiabetesPedigree    Age  \\\n",
       "0                 False         False  False             False  False   \n",
       "1                 False         False  False             False  False   \n",
       "2                 False         False  False             False  False   \n",
       "3                 False         False  False             False  False   \n",
       "4                 False         False  False             False  False   \n",
       "...                 ...           ...    ...               ...    ...   \n",
       "14995             False         False  False             False  False   \n",
       "14996             False         False  False             False  False   \n",
       "14997             False         False  False             False  False   \n",
       "14998             False         False  False             False  False   \n",
       "14999             False         False  False             False  False   \n",
       "\n",
       "       Diabetic  \n",
       "0         False  \n",
       "1         False  \n",
       "2         False  \n",
       "3         False  \n",
       "4         False  \n",
       "...         ...  \n",
       "14995     False  \n",
       "14996     False  \n",
       "14997     False  \n",
       "14998     False  \n",
       "14999     False  \n",
       "\n",
       "[15000 rows x 10 columns]"
      ]
     },
     "execution_count": 5,
     "metadata": {},
     "output_type": "execute_result"
    }
   ],
   "source": [
    "db.isnull()"
   ]
  },
  {
   "cell_type": "code",
   "execution_count": 6,
   "id": "298906e8",
   "metadata": {},
   "outputs": [
    {
     "data": {
      "text/plain": [
       "PatientID                 0\n",
       "Pregnancies               0\n",
       "PlasmaGlucose             0\n",
       "DiastolicBloodPressure    0\n",
       "TricepsThickness          0\n",
       "SerumInsulin              0\n",
       "BMI                       0\n",
       "DiabetesPedigree          0\n",
       "Age                       0\n",
       "Diabetic                  0\n",
       "dtype: int64"
      ]
     },
     "execution_count": 6,
     "metadata": {},
     "output_type": "execute_result"
    }
   ],
   "source": [
    "db.isnull().sum()"
   ]
  },
  {
   "cell_type": "code",
   "execution_count": 9,
   "id": "d9255a88",
   "metadata": {},
   "outputs": [
    {
     "data": {
      "text/html": [
       "<div>\n",
       "<style scoped>\n",
       "    .dataframe tbody tr th:only-of-type {\n",
       "        vertical-align: middle;\n",
       "    }\n",
       "\n",
       "    .dataframe tbody tr th {\n",
       "        vertical-align: top;\n",
       "    }\n",
       "\n",
       "    .dataframe thead th {\n",
       "        text-align: right;\n",
       "    }\n",
       "</style>\n",
       "<table border=\"1\" class=\"dataframe\">\n",
       "  <thead>\n",
       "    <tr style=\"text-align: right;\">\n",
       "      <th></th>\n",
       "      <th>PatientID</th>\n",
       "      <th>Pregnancies</th>\n",
       "      <th>PlasmaGlucose</th>\n",
       "      <th>DiastolicBloodPressure</th>\n",
       "      <th>TricepsThickness</th>\n",
       "      <th>SerumInsulin</th>\n",
       "      <th>BMI</th>\n",
       "      <th>DiabetesPedigree</th>\n",
       "      <th>Age</th>\n",
       "      <th>Diabetic</th>\n",
       "    </tr>\n",
       "  </thead>\n",
       "  <tbody>\n",
       "  </tbody>\n",
       "</table>\n",
       "</div>"
      ],
      "text/plain": [
       "Empty DataFrame\n",
       "Columns: [PatientID, Pregnancies, PlasmaGlucose, DiastolicBloodPressure, TricepsThickness, SerumInsulin, BMI, DiabetesPedigree, Age, Diabetic]\n",
       "Index: []"
      ]
     },
     "execution_count": 9,
     "metadata": {},
     "output_type": "execute_result"
    }
   ],
   "source": [
    "db[db.isnull().any(axis=1)]"
   ]
  },
  {
   "cell_type": "code",
   "execution_count": 10,
   "id": "01212062",
   "metadata": {},
   "outputs": [],
   "source": [
    "mean_db = db['DiabetesPedigree'].mean()"
   ]
  },
  {
   "cell_type": "code",
   "execution_count": 32,
   "id": "d6479f85",
   "metadata": {},
   "outputs": [
    {
     "name": "stdout",
     "output_type": "stream",
     "text": [
      "Average Dibetic value is: 0.40\n",
      "\n"
     ]
    }
   ],
   "source": [
    "print(\"Average Dibetic value is: {:.2f}\\n\". format(mean_db))"
   ]
  },
  {
   "cell_type": "code",
   "execution_count": 13,
   "id": "7d0cb936",
   "metadata": {},
   "outputs": [
    {
     "data": {
      "text/html": [
       "<div>\n",
       "<style scoped>\n",
       "    .dataframe tbody tr th:only-of-type {\n",
       "        vertical-align: middle;\n",
       "    }\n",
       "\n",
       "    .dataframe tbody tr th {\n",
       "        vertical-align: top;\n",
       "    }\n",
       "\n",
       "    .dataframe thead th {\n",
       "        text-align: right;\n",
       "    }\n",
       "</style>\n",
       "<table border=\"1\" class=\"dataframe\">\n",
       "  <thead>\n",
       "    <tr style=\"text-align: right;\">\n",
       "      <th></th>\n",
       "      <th>PatientID</th>\n",
       "      <th>Pregnancies</th>\n",
       "      <th>PlasmaGlucose</th>\n",
       "      <th>DiastolicBloodPressure</th>\n",
       "      <th>TricepsThickness</th>\n",
       "      <th>SerumInsulin</th>\n",
       "      <th>BMI</th>\n",
       "      <th>DiabetesPedigree</th>\n",
       "      <th>Age</th>\n",
       "      <th>Diabetic</th>\n",
       "    </tr>\n",
       "  </thead>\n",
       "  <tbody>\n",
       "    <tr>\n",
       "      <th>0</th>\n",
       "      <td>1354778</td>\n",
       "      <td>0</td>\n",
       "      <td>171</td>\n",
       "      <td>80</td>\n",
       "      <td>34</td>\n",
       "      <td>23</td>\n",
       "      <td>43.509726</td>\n",
       "      <td>1.213191</td>\n",
       "      <td>21</td>\n",
       "      <td>0</td>\n",
       "    </tr>\n",
       "    <tr>\n",
       "      <th>3</th>\n",
       "      <td>1883350</td>\n",
       "      <td>9</td>\n",
       "      <td>103</td>\n",
       "      <td>78</td>\n",
       "      <td>25</td>\n",
       "      <td>304</td>\n",
       "      <td>29.582192</td>\n",
       "      <td>1.282870</td>\n",
       "      <td>43</td>\n",
       "      <td>1</td>\n",
       "    </tr>\n",
       "    <tr>\n",
       "      <th>4</th>\n",
       "      <td>1424119</td>\n",
       "      <td>1</td>\n",
       "      <td>85</td>\n",
       "      <td>59</td>\n",
       "      <td>27</td>\n",
       "      <td>35</td>\n",
       "      <td>42.604536</td>\n",
       "      <td>0.549542</td>\n",
       "      <td>22</td>\n",
       "      <td>0</td>\n",
       "    </tr>\n",
       "    <tr>\n",
       "      <th>8</th>\n",
       "      <td>1201647</td>\n",
       "      <td>8</td>\n",
       "      <td>80</td>\n",
       "      <td>95</td>\n",
       "      <td>33</td>\n",
       "      <td>24</td>\n",
       "      <td>26.624929</td>\n",
       "      <td>0.443947</td>\n",
       "      <td>53</td>\n",
       "      <td>1</td>\n",
       "    </tr>\n",
       "    <tr>\n",
       "      <th>16</th>\n",
       "      <td>1884264</td>\n",
       "      <td>3</td>\n",
       "      <td>106</td>\n",
       "      <td>64</td>\n",
       "      <td>25</td>\n",
       "      <td>51</td>\n",
       "      <td>29.044573</td>\n",
       "      <td>0.589188</td>\n",
       "      <td>42</td>\n",
       "      <td>1</td>\n",
       "    </tr>\n",
       "    <tr>\n",
       "      <th>...</th>\n",
       "      <td>...</td>\n",
       "      <td>...</td>\n",
       "      <td>...</td>\n",
       "      <td>...</td>\n",
       "      <td>...</td>\n",
       "      <td>...</td>\n",
       "      <td>...</td>\n",
       "      <td>...</td>\n",
       "      <td>...</td>\n",
       "      <td>...</td>\n",
       "    </tr>\n",
       "    <tr>\n",
       "      <th>14980</th>\n",
       "      <td>1552787</td>\n",
       "      <td>9</td>\n",
       "      <td>56</td>\n",
       "      <td>48</td>\n",
       "      <td>35</td>\n",
       "      <td>21</td>\n",
       "      <td>19.321562</td>\n",
       "      <td>0.614377</td>\n",
       "      <td>23</td>\n",
       "      <td>0</td>\n",
       "    </tr>\n",
       "    <tr>\n",
       "      <th>14987</th>\n",
       "      <td>1840388</td>\n",
       "      <td>2</td>\n",
       "      <td>81</td>\n",
       "      <td>79</td>\n",
       "      <td>69</td>\n",
       "      <td>20</td>\n",
       "      <td>35.093644</td>\n",
       "      <td>0.766683</td>\n",
       "      <td>47</td>\n",
       "      <td>1</td>\n",
       "    </tr>\n",
       "    <tr>\n",
       "      <th>14994</th>\n",
       "      <td>1453189</td>\n",
       "      <td>0</td>\n",
       "      <td>72</td>\n",
       "      <td>99</td>\n",
       "      <td>32</td>\n",
       "      <td>32</td>\n",
       "      <td>20.932808</td>\n",
       "      <td>0.545038</td>\n",
       "      <td>22</td>\n",
       "      <td>0</td>\n",
       "    </tr>\n",
       "    <tr>\n",
       "      <th>14996</th>\n",
       "      <td>1744410</td>\n",
       "      <td>2</td>\n",
       "      <td>73</td>\n",
       "      <td>66</td>\n",
       "      <td>27</td>\n",
       "      <td>168</td>\n",
       "      <td>30.132636</td>\n",
       "      <td>0.862252</td>\n",
       "      <td>38</td>\n",
       "      <td>1</td>\n",
       "    </tr>\n",
       "    <tr>\n",
       "      <th>14997</th>\n",
       "      <td>1742742</td>\n",
       "      <td>0</td>\n",
       "      <td>93</td>\n",
       "      <td>89</td>\n",
       "      <td>43</td>\n",
       "      <td>57</td>\n",
       "      <td>18.690683</td>\n",
       "      <td>0.427049</td>\n",
       "      <td>24</td>\n",
       "      <td>0</td>\n",
       "    </tr>\n",
       "  </tbody>\n",
       "</table>\n",
       "<p>5356 rows × 10 columns</p>\n",
       "</div>"
      ],
      "text/plain": [
       "       PatientID  Pregnancies  PlasmaGlucose  DiastolicBloodPressure  \\\n",
       "0        1354778            0            171                      80   \n",
       "3        1883350            9            103                      78   \n",
       "4        1424119            1             85                      59   \n",
       "8        1201647            8             80                      95   \n",
       "16       1884264            3            106                      64   \n",
       "...          ...          ...            ...                     ...   \n",
       "14980    1552787            9             56                      48   \n",
       "14987    1840388            2             81                      79   \n",
       "14994    1453189            0             72                      99   \n",
       "14996    1744410            2             73                      66   \n",
       "14997    1742742            0             93                      89   \n",
       "\n",
       "       TricepsThickness  SerumInsulin        BMI  DiabetesPedigree  Age  \\\n",
       "0                    34            23  43.509726          1.213191   21   \n",
       "3                    25           304  29.582192          1.282870   43   \n",
       "4                    27            35  42.604536          0.549542   22   \n",
       "8                    33            24  26.624929          0.443947   53   \n",
       "16                   25            51  29.044573          0.589188   42   \n",
       "...                 ...           ...        ...               ...  ...   \n",
       "14980                35            21  19.321562          0.614377   23   \n",
       "14987                69            20  35.093644          0.766683   47   \n",
       "14994                32            32  20.932808          0.545038   22   \n",
       "14996                27           168  30.132636          0.862252   38   \n",
       "14997                43            57  18.690683          0.427049   24   \n",
       "\n",
       "       Diabetic  \n",
       "0             0  \n",
       "3             1  \n",
       "4             0  \n",
       "8             1  \n",
       "16            1  \n",
       "...         ...  \n",
       "14980         0  \n",
       "14987         1  \n",
       "14994         0  \n",
       "14996         1  \n",
       "14997         0  \n",
       "\n",
       "[5356 rows x 10 columns]"
      ]
     },
     "execution_count": 13,
     "metadata": {},
     "output_type": "execute_result"
    }
   ],
   "source": [
    "db[db.DiabetesPedigree>mean_db]"
   ]
  },
  {
   "cell_type": "code",
   "execution_count": 34,
   "id": "6682dfd0",
   "metadata": {},
   "outputs": [
    {
     "name": "stdout",
     "output_type": "stream",
     "text": [
      "People having value >= 0.08 or more are diabetic\n"
     ]
    }
   ],
   "source": [
    "diabetic_th=db[db['Diabetic']==1].DiabetesPedigree.min()\n",
    "print(\"People having value >= {:.2f} or more are diabetic\".format(diabetic_th))"
   ]
  },
  {
   "cell_type": "code",
   "execution_count": 39,
   "id": "4a5c0c05",
   "metadata": {},
   "outputs": [
    {
     "name": "stdout",
     "output_type": "stream",
     "text": [
      "Diabetic\n",
      "0    10000\n",
      "1     5000\n",
      "Name: PatientID, dtype: int64\n"
     ]
    }
   ],
   "source": [
    "print(db.groupby(db.Diabetic).PatientID.count())"
   ]
  },
  {
   "cell_type": "code",
   "execution_count": 45,
   "id": "9849706e",
   "metadata": {},
   "outputs": [
    {
     "name": "stdout",
     "output_type": "stream",
     "text": [
      "          PlasmaGlucose  DiastolicBloodPressure        BMI  DiabetesPedigree  \\\n",
      "Diabetic                                                                       \n",
      "0              104.9622                 70.1387  30.057052          0.353457   \n",
      "1              113.6462                 73.3846  34.414834          0.489990   \n",
      "\n",
      "              Age  \n",
      "Diabetic           \n",
      "0         27.2090  \n",
      "1         35.9952  \n"
     ]
    }
   ],
   "source": [
    "print(db.groupby(db.Diabetic)[['PlasmaGlucose','DiabetesPedigree','Age']].mean())"
   ]
  },
  {
   "cell_type": "code",
   "execution_count": 46,
   "id": "a65ca310",
   "metadata": {},
   "outputs": [],
   "source": []
  },
  {
   "cell_type": "code",
   "execution_count": 47,
   "id": "035ecc3a",
   "metadata": {},
   "outputs": [],
   "source": [
    "binSize = list(range(0,db['Age'].max()+21,20))"
   ]
  },
  {
   "cell_type": "code",
   "execution_count": 48,
   "id": "44fb34ec",
   "metadata": {},
   "outputs": [
    {
     "data": {
      "text/plain": [
       "[0, 20, 40, 60, 80]"
      ]
     },
     "execution_count": 48,
     "metadata": {},
     "output_type": "execute_result"
    }
   ],
   "source": [
    "binSize"
   ]
  },
  {
   "cell_type": "code",
   "execution_count": 49,
   "id": "66c6ec09",
   "metadata": {},
   "outputs": [
    {
     "data": {
      "text/plain": [
       "77"
      ]
     },
     "execution_count": 49,
     "metadata": {},
     "output_type": "execute_result"
    }
   ],
   "source": [
    "db.Age.max()"
   ]
  },
  {
   "cell_type": "code",
   "execution_count": 51,
   "id": "c8355dad",
   "metadata": {},
   "outputs": [],
   "source": [
    "bin_labels= [ f'{i}-{i+19}' for i in binSize[:-1]]"
   ]
  },
  {
   "cell_type": "code",
   "execution_count": 52,
   "id": "961d36b0",
   "metadata": {},
   "outputs": [
    {
     "data": {
      "text/plain": [
       "['0-19', '20-39', '40-59', '60-79']"
      ]
     },
     "execution_count": 52,
     "metadata": {},
     "output_type": "execute_result"
    }
   ],
   "source": [
    "bin_labels"
   ]
  },
  {
   "cell_type": "code",
   "execution_count": 62,
   "id": "5229c7f5",
   "metadata": {},
   "outputs": [],
   "source": [
    "db['Agebin']=pd.cut(db['Age'], bins=binSize, labels=bin_labels, include_lowest='true')"
   ]
  },
  {
   "cell_type": "code",
   "execution_count": 63,
   "id": "b861b32a",
   "metadata": {},
   "outputs": [
    {
     "data": {
      "text/html": [
       "<div>\n",
       "<style scoped>\n",
       "    .dataframe tbody tr th:only-of-type {\n",
       "        vertical-align: middle;\n",
       "    }\n",
       "\n",
       "    .dataframe tbody tr th {\n",
       "        vertical-align: top;\n",
       "    }\n",
       "\n",
       "    .dataframe thead th {\n",
       "        text-align: right;\n",
       "    }\n",
       "</style>\n",
       "<table border=\"1\" class=\"dataframe\">\n",
       "  <thead>\n",
       "    <tr style=\"text-align: right;\">\n",
       "      <th></th>\n",
       "      <th>PatientID</th>\n",
       "      <th>Pregnancies</th>\n",
       "      <th>PlasmaGlucose</th>\n",
       "      <th>DiastolicBloodPressure</th>\n",
       "      <th>TricepsThickness</th>\n",
       "      <th>SerumInsulin</th>\n",
       "      <th>BMI</th>\n",
       "      <th>DiabetesPedigree</th>\n",
       "      <th>Age</th>\n",
       "      <th>Diabetic</th>\n",
       "      <th>Agebin</th>\n",
       "    </tr>\n",
       "  </thead>\n",
       "  <tbody>\n",
       "    <tr>\n",
       "      <th>0</th>\n",
       "      <td>1354778</td>\n",
       "      <td>0</td>\n",
       "      <td>171</td>\n",
       "      <td>80</td>\n",
       "      <td>34</td>\n",
       "      <td>23</td>\n",
       "      <td>43.509726</td>\n",
       "      <td>1.213191</td>\n",
       "      <td>21</td>\n",
       "      <td>0</td>\n",
       "      <td>20-39</td>\n",
       "    </tr>\n",
       "    <tr>\n",
       "      <th>1</th>\n",
       "      <td>1147438</td>\n",
       "      <td>8</td>\n",
       "      <td>92</td>\n",
       "      <td>93</td>\n",
       "      <td>47</td>\n",
       "      <td>36</td>\n",
       "      <td>21.240576</td>\n",
       "      <td>0.158365</td>\n",
       "      <td>23</td>\n",
       "      <td>0</td>\n",
       "      <td>20-39</td>\n",
       "    </tr>\n",
       "    <tr>\n",
       "      <th>2</th>\n",
       "      <td>1640031</td>\n",
       "      <td>7</td>\n",
       "      <td>115</td>\n",
       "      <td>47</td>\n",
       "      <td>52</td>\n",
       "      <td>35</td>\n",
       "      <td>41.511523</td>\n",
       "      <td>0.079019</td>\n",
       "      <td>23</td>\n",
       "      <td>0</td>\n",
       "      <td>20-39</td>\n",
       "    </tr>\n",
       "    <tr>\n",
       "      <th>3</th>\n",
       "      <td>1883350</td>\n",
       "      <td>9</td>\n",
       "      <td>103</td>\n",
       "      <td>78</td>\n",
       "      <td>25</td>\n",
       "      <td>304</td>\n",
       "      <td>29.582192</td>\n",
       "      <td>1.282870</td>\n",
       "      <td>43</td>\n",
       "      <td>1</td>\n",
       "      <td>40-59</td>\n",
       "    </tr>\n",
       "    <tr>\n",
       "      <th>4</th>\n",
       "      <td>1424119</td>\n",
       "      <td>1</td>\n",
       "      <td>85</td>\n",
       "      <td>59</td>\n",
       "      <td>27</td>\n",
       "      <td>35</td>\n",
       "      <td>42.604536</td>\n",
       "      <td>0.549542</td>\n",
       "      <td>22</td>\n",
       "      <td>0</td>\n",
       "      <td>20-39</td>\n",
       "    </tr>\n",
       "    <tr>\n",
       "      <th>...</th>\n",
       "      <td>...</td>\n",
       "      <td>...</td>\n",
       "      <td>...</td>\n",
       "      <td>...</td>\n",
       "      <td>...</td>\n",
       "      <td>...</td>\n",
       "      <td>...</td>\n",
       "      <td>...</td>\n",
       "      <td>...</td>\n",
       "      <td>...</td>\n",
       "      <td>...</td>\n",
       "    </tr>\n",
       "    <tr>\n",
       "      <th>14995</th>\n",
       "      <td>1490300</td>\n",
       "      <td>10</td>\n",
       "      <td>65</td>\n",
       "      <td>60</td>\n",
       "      <td>46</td>\n",
       "      <td>177</td>\n",
       "      <td>33.512468</td>\n",
       "      <td>0.148327</td>\n",
       "      <td>41</td>\n",
       "      <td>1</td>\n",
       "      <td>40-59</td>\n",
       "    </tr>\n",
       "    <tr>\n",
       "      <th>14996</th>\n",
       "      <td>1744410</td>\n",
       "      <td>2</td>\n",
       "      <td>73</td>\n",
       "      <td>66</td>\n",
       "      <td>27</td>\n",
       "      <td>168</td>\n",
       "      <td>30.132636</td>\n",
       "      <td>0.862252</td>\n",
       "      <td>38</td>\n",
       "      <td>1</td>\n",
       "      <td>20-39</td>\n",
       "    </tr>\n",
       "    <tr>\n",
       "      <th>14997</th>\n",
       "      <td>1742742</td>\n",
       "      <td>0</td>\n",
       "      <td>93</td>\n",
       "      <td>89</td>\n",
       "      <td>43</td>\n",
       "      <td>57</td>\n",
       "      <td>18.690683</td>\n",
       "      <td>0.427049</td>\n",
       "      <td>24</td>\n",
       "      <td>0</td>\n",
       "      <td>20-39</td>\n",
       "    </tr>\n",
       "    <tr>\n",
       "      <th>14998</th>\n",
       "      <td>1099353</td>\n",
       "      <td>0</td>\n",
       "      <td>132</td>\n",
       "      <td>98</td>\n",
       "      <td>18</td>\n",
       "      <td>161</td>\n",
       "      <td>19.791645</td>\n",
       "      <td>0.302257</td>\n",
       "      <td>23</td>\n",
       "      <td>0</td>\n",
       "      <td>20-39</td>\n",
       "    </tr>\n",
       "    <tr>\n",
       "      <th>14999</th>\n",
       "      <td>1386396</td>\n",
       "      <td>3</td>\n",
       "      <td>114</td>\n",
       "      <td>65</td>\n",
       "      <td>47</td>\n",
       "      <td>512</td>\n",
       "      <td>36.215437</td>\n",
       "      <td>0.147363</td>\n",
       "      <td>34</td>\n",
       "      <td>1</td>\n",
       "      <td>20-39</td>\n",
       "    </tr>\n",
       "  </tbody>\n",
       "</table>\n",
       "<p>15000 rows × 11 columns</p>\n",
       "</div>"
      ],
      "text/plain": [
       "       PatientID  Pregnancies  PlasmaGlucose  DiastolicBloodPressure  \\\n",
       "0        1354778            0            171                      80   \n",
       "1        1147438            8             92                      93   \n",
       "2        1640031            7            115                      47   \n",
       "3        1883350            9            103                      78   \n",
       "4        1424119            1             85                      59   \n",
       "...          ...          ...            ...                     ...   \n",
       "14995    1490300           10             65                      60   \n",
       "14996    1744410            2             73                      66   \n",
       "14997    1742742            0             93                      89   \n",
       "14998    1099353            0            132                      98   \n",
       "14999    1386396            3            114                      65   \n",
       "\n",
       "       TricepsThickness  SerumInsulin        BMI  DiabetesPedigree  Age  \\\n",
       "0                    34            23  43.509726          1.213191   21   \n",
       "1                    47            36  21.240576          0.158365   23   \n",
       "2                    52            35  41.511523          0.079019   23   \n",
       "3                    25           304  29.582192          1.282870   43   \n",
       "4                    27            35  42.604536          0.549542   22   \n",
       "...                 ...           ...        ...               ...  ...   \n",
       "14995                46           177  33.512468          0.148327   41   \n",
       "14996                27           168  30.132636          0.862252   38   \n",
       "14997                43            57  18.690683          0.427049   24   \n",
       "14998                18           161  19.791645          0.302257   23   \n",
       "14999                47           512  36.215437          0.147363   34   \n",
       "\n",
       "       Diabetic Agebin  \n",
       "0             0  20-39  \n",
       "1             0  20-39  \n",
       "2             0  20-39  \n",
       "3             1  40-59  \n",
       "4             0  20-39  \n",
       "...         ...    ...  \n",
       "14995         1  40-59  \n",
       "14996         1  20-39  \n",
       "14997         0  20-39  \n",
       "14998         0  20-39  \n",
       "14999         1  20-39  \n",
       "\n",
       "[15000 rows x 11 columns]"
      ]
     },
     "execution_count": 63,
     "metadata": {},
     "output_type": "execute_result"
    }
   ],
   "source": [
    "db"
   ]
  },
  {
   "cell_type": "code",
   "execution_count": 72,
   "id": "a07a9ddb",
   "metadata": {},
   "outputs": [
    {
     "name": "stderr",
     "output_type": "stream",
     "text": [
      "C:\\Users\\Saura\\AppData\\Local\\Temp\\ipykernel_33316\\3520523914.py:4: FutureWarning: The default of observed=False is deprecated and will be changed to True in a future version of pandas. Pass observed=False to retain current behavior or observed=True to adopt the future default and silence this warning.\n",
      "  age_grouped=db.groupby('Agebin')['BMI'].mean()\n"
     ]
    },
    {
     "data": {
      "text/plain": [
       "(array([0, 1, 2, 3]),\n",
       " [Text(0, 0, '0-19'),\n",
       "  Text(1, 0, '20-39'),\n",
       "  Text(2, 0, '40-59'),\n",
       "  Text(3, 0, '60-79')])"
      ]
     },
     "execution_count": 72,
     "metadata": {},
     "output_type": "execute_result"
    },
    {
     "data": {
      "image/png": "[encoded data removed]",
      "text/plain": [
       "<Figure size 640x480 with 1 Axes>"
      ]
     },
     "metadata": {},
     "output_type": "display_data"
    }
   ],
   "source": [
    "%matplotlib inline\n",
    "from matplotlib import pyplot as plt\n",
    "\n",
    "age_grouped=db.groupby('Agebin')['BMI'].mean()\n",
    "\n",
    "age_grouped.plot(kind='bar')\n",
    "plt.title('Average BMI by age')\n",
    "plt.xlabel('Age Group')\n",
    "plt.ylabel('BMI')\n",
    "plt.grid(color='#95a5a6', linestyle='--', linewidth=2, axis='y', alpha=0.7)\n",
    "plt.xticks(rotation=90)"
   ]
  },
  {
   "cell_type": "code",
   "execution_count": 73,
   "id": "3a289b79",
   "metadata": {},
   "outputs": [
    {
     "data": {
      "text/plain": [
       "Agebin\n",
       "0-19           NaN\n",
       "20-39    31.133385\n",
       "40-59    33.134823\n",
       "60-79    31.549833\n",
       "Name: BMI, dtype: float64"
      ]
     },
     "execution_count": 73,
     "metadata": {},
     "output_type": "execute_result"
    }
   ],
   "source": [
    "age_grouped"
   ]
  },
  {
   "cell_type": "code",
   "execution_count": 84,
   "id": "adf2b880",
   "metadata": {},
   "outputs": [
    {
     "name": "stderr",
     "output_type": "stream",
     "text": [
      "C:\\Users\\Saura\\AppData\\Local\\Temp\\ipykernel_33316\\1168988879.py:3: FutureWarning: The default of observed=False is deprecated and will be changed to True in a future version of pandas. Pass observed=False to retain current behavior or observed=True to adopt the future default and silence this warning.\n",
      "  sugar_ptg = db.groupby('Agebin').agg({'Diabetic':'sum', 'PatientID': 'count'})\n"
     ]
    }
   ],
   "source": [
    "# calculating %age of individuals having sugar in each age group\n",
    "\n",
    "sugar_ptg = db.groupby('Agebin').agg({'Diabetic':'sum', 'PatientID': 'count'})"
   ]
  },
  {
   "cell_type": "raw",
   "id": "38deed6e",
   "metadata": {},
   "source": []
  },
  {
   "cell_type": "code",
   "execution_count": 108,
   "id": "25b8d4e7",
   "metadata": {},
   "outputs": [
    {
     "data": {
      "text/html": [
       "<div>\n",
       "<style scoped>\n",
       "    .dataframe tbody tr th:only-of-type {\n",
       "        vertical-align: middle;\n",
       "    }\n",
       "\n",
       "    .dataframe tbody tr th {\n",
       "        vertical-align: top;\n",
       "    }\n",
       "\n",
       "    .dataframe thead th {\n",
       "        text-align: right;\n",
       "    }\n",
       "</style>\n",
       "<table border=\"1\" class=\"dataframe\">\n",
       "  <thead>\n",
       "    <tr style=\"text-align: right;\">\n",
       "      <th></th>\n",
       "      <th>Diabetic</th>\n",
       "      <th>PatientID</th>\n",
       "    </tr>\n",
       "    <tr>\n",
       "      <th>Agebin</th>\n",
       "      <th></th>\n",
       "      <th></th>\n",
       "    </tr>\n",
       "  </thead>\n",
       "  <tbody>\n",
       "    <tr>\n",
       "      <th>0-19</th>\n",
       "      <td>0</td>\n",
       "      <td>0</td>\n",
       "    </tr>\n",
       "    <tr>\n",
       "      <th>20-39</th>\n",
       "      <td>2814</td>\n",
       "      <td>11834</td>\n",
       "    </tr>\n",
       "    <tr>\n",
       "      <th>40-59</th>\n",
       "      <td>2020</td>\n",
       "      <td>2729</td>\n",
       "    </tr>\n",
       "    <tr>\n",
       "      <th>60-79</th>\n",
       "      <td>166</td>\n",
       "      <td>437</td>\n",
       "    </tr>\n",
       "  </tbody>\n",
       "</table>\n",
       "</div>"
      ],
      "text/plain": [
       "        Diabetic  PatientID\n",
       "Agebin                     \n",
       "0-19           0          0\n",
       "20-39       2814      11834\n",
       "40-59       2020       2729\n",
       "60-79        166        437"
      ]
     },
     "execution_count": 108,
     "metadata": {},
     "output_type": "execute_result"
    }
   ],
   "source": [
    "sugar_ptg"
   ]
  },
  {
   "cell_type": "code",
   "execution_count": 86,
   "id": "c771def0",
   "metadata": {},
   "outputs": [
    {
     "name": "stderr",
     "output_type": "stream",
     "text": [
      "C:\\Users\\Saura\\AppData\\Local\\Temp\\ipykernel_33316\\2393631469.py:1: FutureWarning: The default of observed=False is deprecated and will be changed to True in a future version of pandas. Pass observed=False to retain current behavior or observed=True to adopt the future default and silence this warning.\n",
      "  age_prt=db.groupby('Agebin')['Diabetic'/'PatientID']\n"
     ]
    },
    {
     "ename": "TypeError",
     "evalue": "unsupported operand type(s) for /: 'str' and 'str'",
     "output_type": "error",
     "traceback": [
      "\u001b[1;31m---------------------------------------------------------------------------\u001b[0m",
      "\u001b[1;31mTypeError\u001b[0m                                 Traceback (most recent call last)",
      "Cell \u001b[1;32mIn[86], line 1\u001b[0m\n\u001b[1;32m----> 1\u001b[0m age_prt\u001b[38;5;241m=\u001b[39mdb\u001b[38;5;241m.\u001b[39mgroupby(\u001b[38;5;124m'\u001b[39m\u001b[38;5;124mAgebin\u001b[39m\u001b[38;5;124m'\u001b[39m)[\u001b[38;5;124m'\u001b[39m\u001b[38;5;124mDiabetic\u001b[39m\u001b[38;5;124m'\u001b[39m\u001b[38;5;241m/\u001b[39m\u001b[38;5;124m'\u001b[39m\u001b[38;5;124mPatientID\u001b[39m\u001b[38;5;124m'\u001b[39m]\n\u001b[0;32m      3\u001b[0m age_grouped\u001b[38;5;241m.\u001b[39mplot(kind\u001b[38;5;241m=\u001b[39m\u001b[38;5;124m'\u001b[39m\u001b[38;5;124mbar\u001b[39m\u001b[38;5;124m'\u001b[39m)\n\u001b[0;32m      4\u001b[0m plt\u001b[38;5;241m.\u001b[39mtitle(\u001b[38;5;124m'\u001b[39m\u001b[38;5;124mAverage BMI by age\u001b[39m\u001b[38;5;124m'\u001b[39m)\n",
      "\u001b[1;31mTypeError\u001b[0m: unsupported operand type(s) for /: 'str' and 'str'"
     ]
    }
   ],
   "source": [
    "\n",
    "age_prt=db.groupby('Agebin')['Diabetic'/'PatientID']\n",
    "\n",
    "age_grouped.plot(kind='bar')\n",
    "plt.title('Average BMI by age')\n",
    "plt.xlabel('Age Group')\n",
    "plt.ylabel('BMI')\n",
    "plt.grid(color='#95a5a6', linestyle='--', linewidth=2, axis='y', alpha=0.7)\n",
    "plt.xticks(rotation=90)"
   ]
  },
  {
   "cell_type": "code",
   "execution_count": 114,
   "id": "ff37e030",
   "metadata": {},
   "outputs": [],
   "source": [
    "#age_group=db.groupby('Agebin')\n",
    "#def divide_col(sugar_ptg):\n",
    "  # return (sugar_ptg['Diabetic'].sum() / sugar_ptg['PatientID'].count()) * 100\n",
    "#ptg= age_group.transform(devide_col)"
   ]
  },
  {
   "cell_type": "code",
   "execution_count": 102,
   "id": "71cb4827",
   "metadata": {},
   "outputs": [
    {
     "data": {
      "text/plain": [
       "0        0\n",
       "1        0\n",
       "2        0\n",
       "3        1\n",
       "4        0\n",
       "        ..\n",
       "14995    1\n",
       "14996    1\n",
       "14997    0\n",
       "14998    0\n",
       "14999    1\n",
       "Name: Diabetic, Length: 15000, dtype: int64"
      ]
     },
     "execution_count": 102,
     "metadata": {},
     "output_type": "execute_result"
    }
   ],
   "source": [
    "db['Diabetic']\n"
   ]
  },
  {
   "cell_type": "code",
   "execution_count": 105,
   "id": "6796bc08",
   "metadata": {},
   "outputs": [
    {
     "name": "stdout",
     "output_type": "stream",
     "text": [
      "Index(['PatientID', 'Pregnancies', 'PlasmaGlucose', 'DiastolicBloodPressure',\n",
      "       'TricepsThickness', 'SerumInsulin', 'BMI', 'DiabetesPedigree', 'Age',\n",
      "       'Diabetic', 'Agebin'],\n",
      "      dtype='object')\n"
     ]
    }
   ],
   "source": [
    "print(db.columns)"
   ]
  },
  {
   "cell_type": "code",
   "execution_count": 112,
   "id": "f313d3de",
   "metadata": {},
   "outputs": [],
   "source": [
    "sugar_ptg['percentage'] = (sugar_ptg['Diabetic']/sugar_ptg['PatientID'])*100\n"
   ]
  },
  {
   "cell_type": "code",
   "execution_count": 113,
   "id": "d6162370",
   "metadata": {},
   "outputs": [
    {
     "data": {
      "text/html": [
       "<div>\n",
       "<style scoped>\n",
       "    .dataframe tbody tr th:only-of-type {\n",
       "        vertical-align: middle;\n",
       "    }\n",
       "\n",
       "    .dataframe tbody tr th {\n",
       "        vertical-align: top;\n",
       "    }\n",
       "\n",
       "    .dataframe thead th {\n",
       "        text-align: right;\n",
       "    }\n",
       "</style>\n",
       "<table border=\"1\" class=\"dataframe\">\n",
       "  <thead>\n",
       "    <tr style=\"text-align: right;\">\n",
       "      <th></th>\n",
       "      <th>Diabetic</th>\n",
       "      <th>PatientID</th>\n",
       "      <th>percentage</th>\n",
       "    </tr>\n",
       "    <tr>\n",
       "      <th>Agebin</th>\n",
       "      <th></th>\n",
       "      <th></th>\n",
       "      <th></th>\n",
       "    </tr>\n",
       "  </thead>\n",
       "  <tbody>\n",
       "    <tr>\n",
       "      <th>0-19</th>\n",
       "      <td>0</td>\n",
       "      <td>0</td>\n",
       "      <td>NaN</td>\n",
       "    </tr>\n",
       "    <tr>\n",
       "      <th>20-39</th>\n",
       "      <td>2814</td>\n",
       "      <td>11834</td>\n",
       "      <td>23.778942</td>\n",
       "    </tr>\n",
       "    <tr>\n",
       "      <th>40-59</th>\n",
       "      <td>2020</td>\n",
       "      <td>2729</td>\n",
       "      <td>74.019787</td>\n",
       "    </tr>\n",
       "    <tr>\n",
       "      <th>60-79</th>\n",
       "      <td>166</td>\n",
       "      <td>437</td>\n",
       "      <td>37.986270</td>\n",
       "    </tr>\n",
       "  </tbody>\n",
       "</table>\n",
       "</div>"
      ],
      "text/plain": [
       "        Diabetic  PatientID  percentage\n",
       "Agebin                                 \n",
       "0-19           0          0         NaN\n",
       "20-39       2814      11834   23.778942\n",
       "40-59       2020       2729   74.019787\n",
       "60-79        166        437   37.986270"
      ]
     },
     "execution_count": 113,
     "metadata": {},
     "output_type": "execute_result"
    }
   ],
   "source": [
    "sugar_ptg"
   ]
  },
  {
   "cell_type": "code",
   "execution_count": 120,
   "id": "7b054301",
   "metadata": {},
   "outputs": [
    {
     "data": {
      "text/plain": [
       "(array([0, 1, 2, 3]),\n",
       " [Text(0, 0, '0-19'),\n",
       "  Text(1, 0, '20-39'),\n",
       "  Text(2, 0, '40-59'),\n",
       "  Text(3, 0, '60-79')])"
      ]
     },
     "execution_count": 120,
     "metadata": {},
     "output_type": "execute_result"
    },
    {
     "data": {
      "image/png": "[encoded data removed]",
      "text/plain": [
       "<Figure size 640x480 with 1 Axes>"
      ]
     },
     "metadata": {},
     "output_type": "display_data"
    }
   ],
   "source": [
    "sugar_ptg['percentage'].plot(kind='bar')\n",
    "plt.title('%age diabetic by agegroup')\n",
    "plt.xlabel('Age Group')\n",
    "plt.ylabel('%age diabetic')\n",
    "plt.grid(color='#95a5a6', linestyle='--', linewidth=2, axis='y', alpha=0.7)\n",
    "plt.xticks(rotation=90)"
   ]
  },
  {
   "cell_type": "code",
   "execution_count": null,
   "id": "1f270bd7",
   "metadata": {},
   "outputs": [],
   "source": []
  }
 ],
 "metadata": {
  "kernelspec": {
   "display_name": "Python 3 (ipykernel)",
   "language": "python",
   "name": "python3"
  },
  "language_info": {
   "codemirror_mode": {
    "name": "ipython",
    "version": 3
   },
   "file_extension": ".py",
   "mimetype": "text/x-python",
   "name": "python",
   "nbconvert_exporter": "python",
   "pygments_lexer": "ipython3",
   "version": "3.11.5"
  }
 },
 "nbformat": 4,
 "nbformat_minor": 5
}
